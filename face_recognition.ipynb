{
 "cells": [
  {
   "cell_type": "code",
   "execution_count": null,
   "id": "37522fea",
   "metadata": {},
   "outputs": [],
   "source": [
    "# Import required libraries\n",
    "%matplotlib notebook\n",
    "%matplotlib inline\n",
    "import matplotlib.pyplot as plt\n",
    "import os\n",
    "import cv2"
   ]
  },
  {
   "cell_type": "code",
   "execution_count": null,
   "id": "828db0b9",
   "metadata": {},
   "outputs": [],
   "source": [
    "# Create a directory to store the labeled images\n",
    "if not os.path.exists('dataset'):\n",
    "    os.makedirs('dataset')"
   ]
  },
  {
   "cell_type": "code",
   "execution_count": null,
   "id": "074287d5",
   "metadata": {},
   "outputs": [],
   "source": [
    "# Define the size of the images after resizing\n",
    "size = (128, 128)"
   ]
  },
  {
   "cell_type": "code",
   "execution_count": null,
   "id": "ba7758aa",
   "metadata": {},
   "outputs": [],
   "source": [
    "# Define a function to label images with a GUI\n",
    "def label_face(image):\n",
    "    # Display the image\n",
    "    plt.imshow(cv2.cvtColor(image, cv2.COLOR_BGR2RGB))\n",
    "    plt.axis('off')\n",
    "    plt.show()\n",
    "    \n",
    "    # Wait for a key press\n",
    "    key = input(\"Input the name of the person in the image\")\n",
    "    \n",
    "    # Create a disctionary for the person's images if it doesn't exist\n",
    "    person_dir = os.path.join('dataset', key)\n",
    "    if not os.path.exists(person_dir):\n",
    "        os.makedirs(person_dir)\n",
    "        \n",
    "    # Resize the image to a fixed size and save it to the person's directory\n",
    "    resized_image = cv2.resize(image, size)\n",
    "    filename = os.path.join(person_dir, f'{len(os.listdir(person_dir))}.jpg')\n",
    "    cv2.imwrite(filename, resized_image)\n",
    "    # Wait for a key event before close the image windows\n",
    "    cv2.waitKey(0)"
   ]
  },
  {
   "cell_type": "code",
   "execution_count": null,
   "id": "397e1dfd",
   "metadata": {},
   "outputs": [],
   "source": [
    "# Loop over all images files in a directory\n",
    "for filename in os.listdir('images'):\n",
    "    print(filename)\n",
    "    # Open the image file\n",
    "    image = cv2.imread(os.path.join('images', filename))\n",
    "    \n",
    "    if image is None:\n",
    "        print('Image file is not in a format that cv2.imread() can read.')\n",
    "        continue\n",
    "    \n",
    "    else:\n",
    "        # Detect faces  in the image using a face detection model\n",
    "        face_cascade = cv2.CascadeClassifier(cv2.data.haarcascades + 'haarcascade_frontalface_default.xml')\n",
    "        gray = cv2.cvtColor(image, cv2.COLOR_BGR2GRAY)\n",
    "        faces = face_cascade.detectMultiScale(gray, scaleFactor=1.1, minNeighbors=5)\n",
    "\n",
    "        # Label each detected face\n",
    "        for (x, y, w, h) in faces:\n",
    "            face_image = image[y:y+h, x:x+w]\n",
    "            label_face(face_image)"
   ]
  },
  {
   "cell_type": "code",
   "execution_count": null,
   "id": "a4b1ac93",
   "metadata": {},
   "outputs": [],
   "source": []
  }
 ],
 "metadata": {
  "kernelspec": {
   "display_name": "Python 3 (ipykernel)",
   "language": "python",
   "name": "python3"
  },
  "language_info": {
   "codemirror_mode": {
    "name": "ipython",
    "version": 3
   },
   "file_extension": ".py",
   "mimetype": "text/x-python",
   "name": "python",
   "nbconvert_exporter": "python",
   "pygments_lexer": "ipython3",
   "version": "3.9.13"
  }
 },
 "nbformat": 4,
 "nbformat_minor": 5
}
